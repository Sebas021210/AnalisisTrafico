{
 "cells": [
  {
   "cell_type": "markdown",
   "metadata": {},
   "source": [
    "# Laboratorio No. 6 – Análisis de tráfico de red"
   ]
  },
  {
   "cell_type": "markdown",
   "metadata": {},
   "source": [
    "## Preámbulo"
   ]
  },
  {
   "cell_type": "code",
   "execution_count": 23,
   "metadata": {},
   "outputs": [],
   "source": [
    "import pandas as pd\n",
    "import socket\n",
    "import matplotlib.pyplot as plt\n",
    "from scapy.all import *"
   ]
  },
  {
   "cell_type": "code",
   "execution_count": 2,
   "metadata": {},
   "outputs": [],
   "source": [
    "# Capturar 25 paquetes\n",
    "paquetes = sniff(count=25)"
   ]
  },
  {
   "cell_type": "code",
   "execution_count": 3,
   "metadata": {},
   "outputs": [
    {
     "name": "stdout",
     "output_type": "stream",
     "text": [
      "Tipo de la variable: <class 'scapy.plist.PacketList'>\n",
      "Cantidad de paquetes capturados: 25\n",
      "Contenido de la variable:\n",
      "Ether / IP / UDP 192.168.1.34:49153 > 255.255.255.255:6667 / Raw\n",
      "Ether / IP / TCP 192.168.1.30:53798 > 140.82.112.21:https A / Raw\n",
      "Ether / IP / TCP 192.168.1.30:53798 > 140.82.112.21:https A / Raw\n",
      "Ether / IP / TCP 192.168.1.30:53798 > 140.82.112.21:https A / Raw\n",
      "Ether / IP / TCP 192.168.1.30:53798 > 140.82.112.21:https A / Raw\n",
      "Ether / IP / TCP 192.168.1.30:53798 > 140.82.112.21:https A / Raw\n",
      "Ether / IP / TCP 192.168.1.30:53798 > 140.82.112.21:https A / Raw\n",
      "Ether / IP / TCP 192.168.1.30:53798 > 140.82.112.21:https A / Raw\n",
      "Ether / IP / TCP 192.168.1.30:53798 > 140.82.112.21:https A / Raw\n",
      "Ether / IP / TCP 192.168.1.30:53798 > 140.82.112.21:https A / Raw\n",
      "Ether / IP / TCP 192.168.1.30:53798 > 140.82.112.21:https A / Raw\n",
      "Ether / IP / TCP 192.168.1.30:53798 > 140.82.112.21:https A / Raw\n",
      "Ether / IP / TCP 140.82.112.21:https > 192.168.1.30:53798 A / Padding\n",
      "Ether / IP / TCP 192.168.1.30:53798 > 140.82.112.21:https A / Raw\n",
      "Ether / IP / TCP 192.168.1.30:53798 > 140.82.112.21:https A / Raw\n",
      "Ether / IP / TCP 192.168.1.30:53798 > 140.82.112.21:https A / Raw\n",
      "Ether / IP / TCP 192.168.1.30:53798 > 140.82.112.21:https A / Raw\n",
      "Ether / IP / TCP 140.82.112.21:https > 192.168.1.30:53798 A / Padding\n",
      "Ether / IP / TCP 192.168.1.30:53798 > 140.82.112.21:https A / Raw\n",
      "Ether / IP / TCP 192.168.1.30:53798 > 140.82.112.21:https A / Raw\n",
      "Ether / IP / TCP 192.168.1.30:53798 > 140.82.112.21:https A / Raw\n",
      "Ether / IP / TCP 192.168.1.30:53798 > 140.82.112.21:https A / Raw\n",
      "Ether / IP / TCP 140.82.112.21:https > 192.168.1.30:53798 A / Padding\n",
      "Ether / IP / TCP 140.82.112.21:https > 192.168.1.30:53798 A / Padding\n",
      "Ether / IP / TCP 140.82.112.21:https > 192.168.1.30:53798 A / Padding\n",
      "None\n"
     ]
    }
   ],
   "source": [
    "# Tipo de variable\n",
    "print(\"Tipo de la variable:\", type(paquetes))\n",
    "\n",
    "# Longitud\n",
    "print(\"Cantidad de paquetes capturados:\", len(paquetes))\n",
    "\n",
    "# Contenido\n",
    "print(\"Contenido de la variable:\")\n",
    "print(paquetes.summary())"
   ]
  },
  {
   "cell_type": "code",
   "execution_count": 4,
   "metadata": {},
   "outputs": [
    {
     "name": "stdout",
     "output_type": "stream",
     "text": [
      "Tipo de dato del primer paquete: <class 'scapy.layers.l2.Ether'>\n"
     ]
    }
   ],
   "source": [
    "# Mostrar el primer paquete\n",
    "print(\"Tipo de dato del primer paquete:\", type(paquetes[0]))"
   ]
  },
  {
   "cell_type": "code",
   "execution_count": 5,
   "metadata": {},
   "outputs": [
    {
     "name": "stdout",
     "output_type": "stream",
     "text": [
      "\n",
      "Contenido del paquete 1:\n",
      "###[ Ethernet ]###\n",
      "  dst       = ff:ff:ff:ff:ff:ff\n",
      "  src       = 68:57:2d:ac:b9:a9\n",
      "  type      = IPv4\n",
      "###[ IP ]###\n",
      "     version   = 4\n",
      "     ihl       = 5\n",
      "     tos       = 0x0\n",
      "     len       = 200\n",
      "     id        = 4169\n",
      "     flags     = \n",
      "     frag      = 0\n",
      "     ttl       = 255\n",
      "     proto     = udp\n",
      "     chksum    = 0xe911\n",
      "     src       = 192.168.1.34\n",
      "     dst       = 255.255.255.255\n",
      "     \\options   \\\n",
      "###[ UDP ]###\n",
      "        sport     = 49153\n",
      "        dport     = 6667\n",
      "        len       = 180\n",
      "        chksum    = 0xea46\n",
      "###[ Raw ]###\n",
      "           load      = b'\\x00\\x00U\\xaa\\x00\\x00\\x00\\x00\\x00\\x00\\x00\\x13\\x00\\x00\\x00\\x9c\\x00\\x00\\x00\\x00\\xd0\\x97fgo3i\\xeb\\x10\\xb5\\xe9\\xf12\\xfd\\x80*W\\x0c-nW\\xb6\\x89\\xed[\\xc3\\x94\\x88\\xef\\xe7\\xa7eF\\xdd\\xa6\"\\xec\\xa9(F\\xc0S,tI:\\xf4\\xc2\\xb1\\x97\\x074[e\\xf5B\\xae\\xad\\xeb\\xe9\\xfe\\xbd\\x16\\xe8\\xc2\\xfb\\x84Y\\xb1\\x15_\\xc7]K\\xf6i\\x9f\\x92\\xcb\\xa4\\xc0\\xbaR\\x01H\\x04^v\\x05\\xfa\\x04\\x98\\xdf\\xeaZ\\xab2\\x90\\x8a\\xd1bn-u\\x03w\\x1c\\xf8%VG\\x0e\\x82\\xb8Id\\xd47\\x8e\\xba\\xdf5\\x14\\xb9\\xc8\\x98\\xd1\\x18n\\xda\\x8e\\xea@\\xe9;\\x1e?\\xc1J%p\\xe1\\x82yp\\x9e\\xd1\\xba\\x00\\x00\\xaaU'\n",
      "\n",
      "\n",
      "Contenido del paquete 2:\n",
      "###[ Ethernet ]###\n",
      "  dst       = 14:23:0a:28:5a:76\n",
      "  src       = 90:e8:68:8e:2c:11\n",
      "  type      = IPv4\n",
      "###[ IP ]###\n",
      "     version   = 4\n",
      "     ihl       = 5\n",
      "     tos       = 0x0\n",
      "     len       = 1452\n",
      "     id        = 43208\n",
      "     flags     = DF\n",
      "     frag      = 0\n",
      "     ttl       = 128\n",
      "     proto     = tcp\n",
      "     chksum    = 0x8e55\n",
      "     src       = 192.168.1.30\n",
      "     dst       = 140.82.112.21\n",
      "     \\options   \\\n",
      "###[ TCP ]###\n",
      "        sport     = 53798\n",
      "        dport     = https\n",
      "        seq       = 887537530\n",
      "        ack       = 3391455549\n",
      "        dataofs   = 5\n",
      "        reserved  = 0\n",
      "        flags     = A\n",
      "        window    = 508\n",
      "        chksum    = 0x2559\n",
      "        urgptr    = 0\n",
      "        options   = []\n",
      "###[ Raw ]###\n",
      "           load      = b'\\x17\\x03\\x03@\\x11WV\\x94dqN\\xf3\\x8au\\x80\\xbb\\xe2,\\xb2\\x8c\\xd5\\xf8@\\xc8p\\xe0H\\xfb\\xda\\xd6\\xc1\\xbd!\\xfe\\x9ekV\\x8e73Ov\\xe0\\x7fe\\xaf\\x1a[S\\xb20j\\xbe\\tEU\\t\\x11G@\\xd0\\xa1\\xb2e\\x0c?]\\x15\\x90(h\\xafr\\x0f\\x92\\x83\\\\\\xf5\\xc9\\xbf\\x00\\x13~\\x86\\x9f\\xe7*\\xce\\x1e\\xd9\\xbf\\x98\\x06\\xc1Q\\xe5\\xdcF\\xaa\\x06Dn\\xd7\\x1e\\xbc\\x10\\x9f\\xb7\\x8c\\x8f>U\\xcd-\\xe5sP\\xcaO\\xb0q#\\x17\\x99V\\xca\\x96p\\xad|\\x80?\\x12\\xa4\\xe8\\xd1\\xbc\\xab\\xfe\\xf7iYr\\xe1\\x8e\\x1b\\x8c\\xe1\\xc9\\x95ry*\\xa1\\xef\\xd0G\\xa2\\xc5\\xc1\\x94\\xac\\x01\\xa3\\x873+\\xa4\\x8b\\x13\\xed\\xf1q\\xc8\\x1a\\xc3\\xf2\\xf2M\\xdb\\xe6\\xc6i\\xebv\\xc6\\xe4\\x8bq\\xf2\\xc2\\xd9[\\x01\\xa5\\tf\\x86\\xa86Z\\x98\\xc7\\xfe\\x94\\'\\xe1\\x87\"/T\\xbfCsLN\"\\x85\\xa1/Ok}\\xa9|W\\xf4\\xdc\\x08#\\xd0\\x0f\\xab\\xa5\\xb0\\x91\\xfa#\\xc85\\xb1}\\xa5\\xa9K\\xe6u\\x00\\x93\\xab\\xc0Q\\x1e,\\x88\\xdeR\\xd3\\xe5=\\xc26]\\x11\\x9b\\xed\\xd2\\xd9\\xb5?7\\xc5S=\\xac\\xc3;\\xb7\\xaa\\xae\\x95n\\x08\\xf3\\x91\\xda\\xcd\\x15-\\x05\\x11V@-^\\xe2\\x97\\xd4\\xb6\\xbd$l`\\x0eTK[\\\\I\\xf5,w\\xbcJ\\xb4\\n\\xa7l&\\xf2\\x0c\\xae\\x95\\xaa(\\x06F1\\xb1\\xd6\\xe1=\\x89/\\xa7\\xc8\\xbb\\xc8~R\\x88\\x17\\xd7\\'\\xd6\\x93\\xccFn\\x90*\\xa2\\x88\\x93\\x94\\xbe\\xfb:`\\xa8\\xc9p\\x18\\x85\\x13j\\xb9\\xf7\\xdd\\xb7b\\xc2\\xd52\\xfb\\xee\\xb4\\x9b%\\xa7\\xb9t\\xd9(\\x9eX\\xa5\\xffR\\xd3\\xdd\\xa3\\xe8\\xf4l\\xce\\xf31\\x8e\\r\\x16j\\xb3\\xc3\\x01<\\xaa\\xfc\\x8c\\xe4\\xb1*\\xc6\\x1d\\xb4\\xe7/!+\\xd0F]\\x9ep%\\xa3\\x0c\\x86:H\\x13\\xe1\\x1d\\x10{\\xb4\\xdbn;\\x05\\x18+@\\xda\\x97m\\xe4K9\\xe1\\x0ci\\x83E\\xe8\\n\\x95\\x95\\x13\\n^\\x9c\\xa9N\\x9f\\xa3\\xbf\\xdf\\x0f6a\\xcfN.\\x9b\\xd3\\x9f\\x9dC\\x0b\\xfd^rA\\x89\\xde \\x7f\\xa3\\xe4[\\xf7\\xa1h\\xe8\\x18Ws\\xfe\\x03]\\xaa\\x95i-}\\x8c\\xad\\x84\\xeb\\x9eyywQ\\xb7u\\xa5\\x15}\\xc1px\"\\xee\\xe2\\xf4\\x90i)\\x9f\\x81X[\\xe2\\xa8\\x97\\xfc\\x17O\\xf5fPP\\xcby\\xaf\\xf4\\x9e\\xa3\\x18\\xf2\\xd2\\xf69wm\\xf3~\\x99u\\xd3\\x0f\\x0b\\xae\\x857\\xd7\\xb1F\\x94\\x99\\xd4\\x19&\\x9ao\\xc0\\x8b\\x96.`5\\xf5\\xd1\\x8b\\xb1F\\xe3\\x9fn\\xb3\\xd5S\\x8bo}`7\\xf7\\x84l4YO\\xba\\x98\\xf0\\xac\\xcf\\x99\\x1fm{\\xa2\\x1a\\x8c\\xaa/\\xe5\\x913\\xcc\\x94oM\\x11\\x08dv\\x80\\x7f\\x86n\\xc7n\\x0f\\xb9\\x16\\x04\\xc1\\xd9\\xfc\\xb3u[\\x97\\xd0`C;\\xd6#\\x1f\"\\x1bB\\xdb#\\xeba\\xc8_\\xbbKi\\xe1\\xc2\\xdb\\x9f\\x1c\\x1a\\xddi\\x1e\\xe5\\xdb=pC]\\xe7\\x1b\\xd6\\x87_\\xb4\\xe92\\xde\\xdc\\xe5\\x16x$\\xab\\xdf}\\xd1\\x06\\xbd\\xbc\\xde\\x8f\\xffi\\xc9\\xe5\\x01\\xf8\\xdf\\xf9\\xe4g\\xf5b\\xe8]\\xc5\\x1d\\x15^\\xd2\\x93\\xbe\\x87[.\\n:\\x89K\\xca\\x1f=\\x8c\\xd8\\xdd\\x7f^\\x10\\x9a\\x0e\\xca(\\xaa\\xc8\\xe8\\x9d\\x1fQ!E*\\x1fV[J%\\xc4\\x10u\\xf4\\xbeq\\n\\xa7\\x1e\\xcctk\\x8d\\x9f\\x07\\xb0,\\xc7\\xa94\\xd8\\x91\\xcf\\xd4\\x17\\xd4\\xa2)\\x82\\xe6\\x90jW\\x90\\x94\\xf1-\\x9f$\\x1d\\xd5h\\xf1\\xe5\\xcb)\\x98Sy\\xe1=\\x15X\\xa9Z\\xac\\x9e\\xbf\\xd2H\\x0b.\\x1c\\xa6\\xa2@V\\xf7g\\xb0>A\\x05\\x17?\\xb3\\x91\\xb9\\x93\\x14x\\xdf\\xe6\\xc6\\nK\\xa9\\xf5/\\xad4\\xf7D\\\\\\x00\\\\j\\x92\\x16s \\xa8+\\x88\\xb59\\xa6\\x12\\xca\\x8d\\x17%m\\xdf\\xd9\\xdf\\x8c\\x94\\x17L\\xa6X\\x92\\xab\\xdbl\\x8a\\x12\\t\\xac \\xf1\\xa3~[\\x94o\\xe1(\\xe38y\\x8bb\\rR\\t\\x91\\x0c\\x97\\xee\\xe3)S-\\xe9\\x1d\\xdf\\x9dj\\xd3j\\xb8\\x8b\\xc2e\\xe6\\x9d\\xc1\\xc3\\x18\\xe6K\\xeb\\xaa\\x1es}{\\x10\\xe7\\x04\\xd2\\x81%\\x81@\\xd0n\\x84\\xe2^S\\x89\\xa1 \\xf8\\xe9E\\xc5`\\x1a\\xb1\\x7fP\\nc]\\x93\\xd1\\xa4\\xb6@b\\x81!\\xbc\\xfb\\x10\\xf1\\x14j\\xa5L\\x86k\\x9f\\xd5J\\xcel\\xdc\\xc0\\xed\\x8d\\xa9m%C\\x06\\n)\\x9b\\x8d\\xc7i\\x8d\\xac\\xe3u@\\x95V(^\\xffq4.NU\\x87\\xf76G\\xb3i-\\r\\x14z\\x0c+\\x86\\x0e\\x83\\xf1r\\xbc\\xb1\\xc5%UJ\\x06\\xf5\\xad\\xe1\\x0b\\xe7\\x89\\x1c-\\x04${A\\x06\\xe1\\xbd#]\\xa7\\xa3\\xd4-3o6\\xe9\\x04\\xa6\\xb0;Z\\x19\\x0e\\xf7s\\x93\\x8e\\xec\\xa2?(\\x84\\x1c\\xb5\\x9a\\xe1\\'\\xad$\\xc0S\\xa2\"\\x0c\\x9e\\x06\\x06&\\xdaE`t\\x17p\\xfb\\xa7\\xed\\x10o.\\xddS\\x0e\\x84J[\\'\\xbb\\xb0XV\\x14\\xe6[\\xa2Q\\x8d\\xcb\\xffF\\xefL\\xc3P\\xfa:\\xfb\\x15\\x19\\xf3\\xd8V\\xfd\\xbaf\\xcf\\x16k\\x99\\xcc\\xc2\\n\\x8fB\\x19\\xb7\\x18\\xe7\\x036\\xd9d/nR\\xad\\x14\\x8f\\x9e\\x1b\\n\\x97\\xda\\xd5\\xf5\\xb5&\\x83\\xf2\\x0f\\xcf\\x0f\\xdf\\xe2\\xbb3y\\xfe-`\\x99\\xf0\\xc8\\xd4\\xcc\\x0c\\xe0\\xae\\x96_W\\x04I\\x84C\\xfe\\\\A\\xab\\x9e\\x8d\\xdd\\x89[K\\x84?\\xcd\\xc0\\xc3\\xe3\\x18:W\\xcd\\xa7\\x17F~\\xd0\\xc3v\\xaf\\xc3@\\xc7\\x9e\\xab1\\x1e\\xe9Z\\x19\\xfc\\xaa\\x902k\\xfa\\\\FX\\x11\\x0e\\xcd\\xb53\\x15\\xb2\\xa3\\xca\\xa3r\\xc6\\x1e\\x92S\\xd0\\xef\\xc2V\\x1f\\x96|c\\xf6\\xd9i\\x8f,\\xfb/0\\xebsU\\x0b\\xa0Yg\\x8c\\xbd\\x0bx\\xbc\\xcd\"*\\x11\\x93\\x94\\xd1ev\\xc5\\xedur|\\xb4\\t\\xaa\\xda\\xc3\\x8a\\xa6\\xd7\\xa2\\x99\\xf1\\xf5\\x1f5\\xbe\\xd3\\xc2\\xc1K^mk\\xdb9h\\xb8\\x1fOl\\xba\\xa5UN\\xbb0\\xf5\\xc0-!\\x9a\\xb2Y\\x99\\xd8\\x8f\\x8d\\x9a\\xb0\\xa8\\xacCVM2/\\xd9\\xedC\\xbb\\x96\\x12\\xb0\\xff\\xcc\\xe6\\x0b.\\xc1\\xf6\\x10\\xb5\\xcd\\xd3\\xe5\\xe8c\\x8f\\xb2\\x12\\x8c\\xa6\\xda\\xf6Q\\xaf\\x02i\\x03\\x12\\x8fH\\xcb\\x9b\\x9e9\\xd8m\\xa2\\xd1&'\n",
      "\n",
      "\n",
      "Contenido del paquete 3:\n",
      "###[ Ethernet ]###\n",
      "  dst       = 14:23:0a:28:5a:76\n",
      "  src       = 90:e8:68:8e:2c:11\n",
      "  type      = IPv4\n",
      "###[ IP ]###\n",
      "     version   = 4\n",
      "     ihl       = 5\n",
      "     tos       = 0x0\n",
      "     len       = 1452\n",
      "     id        = 43209\n",
      "     flags     = DF\n",
      "     frag      = 0\n",
      "     ttl       = 128\n",
      "     proto     = tcp\n",
      "     chksum    = 0x8e54\n",
      "     src       = 192.168.1.30\n",
      "     dst       = 140.82.112.21\n",
      "     \\options   \\\n",
      "###[ TCP ]###\n",
      "        sport     = 53798\n",
      "        dport     = https\n",
      "        seq       = 887538942\n",
      "        ack       = 3391455549\n",
      "        dataofs   = 5\n",
      "        reserved  = 0\n",
      "        flags     = A\n",
      "        window    = 508\n",
      "        chksum    = 0x6ada\n",
      "        urgptr    = 0\n",
      "        options   = []\n",
      "###[ Raw ]###\n",
      "           load      = b'%\\xdc\\xc8MD\\xd9<\\x10\\xd7e\\'\\x8a}\\xdfz9\\xfcr\\xb6\\xaf~\\x93\\x1f\\xe5.\\xe9\\xb5\\xab\\xa2\\xf0\\x19L\\x8c\\x82p\\x14\\xd6\\xbc\\xfe\\'\\x93\\xa9\\xdb\\xdf*\\xc4\\xb3\\x1b\\x11\\x9f4\\xdc\\xb5\\x96\\x0b\\x9fG\\x02\\x9cPJ*EC\\xbe\\xd8\\xd5yI\\x1a+,\\xb4=y1\\xe3\\xc2UQ\\x9f\\xb9\\x8f\\x18\\xdb\\'y\\x8c\\x11\\xe2\\x9bx\\x0e\\x02X\\x93\\x8b\\xfbU\\xdck\\xcc\\xb0i\\x85Q\\xe2\\x0e\\x10\\xb7\\xfd\\t`\\x0bQ\\xd2\\x84\\xaa\\x08\"rH\\x17\\xe6*n\\x18\\xd16,\\xdc\\x0b8*K\\xd5\\n>\\xf3D\\x02\\x8a\\xfd\\xee\\xff\\xca\\xf3O\\x14l\\xe3\\x03\\xff\\x84\\xab;\\xc3\\xea\\x96\\xc7H\\x06\\xc6\\xcd\\xfcD\\xffF=\\x03\\x92\\xd8UK[\\xf8\\x9c\\xd3z-\\xd1\\xc0$nRTC\\xb7!Z\\xd6I;\\xd4\\x9dq!\\x11\\t\\xca\\xdc\\xbb$k\\xab\\x8a\\xfd\\x0f`3\\x96\\'\\xee\\xd1\\xed3n\\xfb\\xb9H\\xcf\\x91z)D=\\x8b!\\xabC\\xebV\\xd6\\xf56\\x89\\xcb\\xbc\\xb7\\x1e\\x89UjB4G&\\xef^y\\x06\\xca_{\\xa5\\xae\\xca\\xad\\x8b\\x02:*,\\x85\\x13\\xa9q\\x90T.\\x88\\x161\\x82\\x9f\\xc2pN\\xacq\\'f\\x9f\\xb0\\x0b1\\xaeVT\\xea\\x8e&\\x12L|d\\x83\\xa7n\\x02!hw\\x00\\x9a\\x1bNB`\\xa4\\x1eKP&\\xed\\x1a\\xcff\\x96J\\x01\\xfa\\xf5\\x03c\\x9a\\xa9\\xbf\\xd6.8\\xf3\\x17\\x01\\xa8\\xbclt\\x9d\\x86\\xea\\x1e\\xca!_\\xfe\\xb2\\xa5\\x04\\xf2{*Q\\xee2\\xf3\\x1f\\xee|\\xd6F~\\x983\"Jx\\xf0w\\xa6\\x98\\x8cF!\\xac\\x93\\nB\\x07}\\x11\\xc6et\\xdf\\xcf\\xf5\\xb4\\x1aV\\xfd^\\xb0$\\xed5y\\xaf\\x9d{\\x8eM<O\\x88\\x10\\\\Hb\\xbe\\x8a\\xb2\\x99\\xfb\\xaa\\x11\\xea<\\xfa/\\x08\\xda\\xd3\\x08\\xa8\\x9am\\x84\\xe6#\\xbe\\x11\\x19,(\\x85\\xddH\\xd2R\\xc5\\x16N\"OGQ\\xe3\\xb7>\\x06\\x95\\x85G\\xf4\"\\xc3{m\\xef\\x109lB\\xe9\\x01\\x97\\xe0\\xd8\\xdcR$\\x98\\x0ct\\xbf\\xe2QX\\xfe\\xb0C\\xad \\'<\\xf5\\x96p\\xfc@oF\\xba\\xe0\\xd7\\xd5LL\\x83&8\\xef\\xcdZ\\x16Z\\xc3\\xcc\\x9f\\xf9m\\xd6\\xa7\\xb110\\x11k\\xbdC\\x1d\\xc7M(\\xdb\\xc3\\x0c\\\\&\\x9e\\xd3\\xd1\\x96C\\x0c\\xb6\\xdf\\xe4=p\\xd3\\xf5c\\xf7\\xe1\\xd3\\xb4Q\\xb5\\x91X\\xa4F\\xfa|\\xcb=\\x82{\\xda^\\xb3\\\\\\x8c\\x95\\xe2\\xcf\\xf2S\\xbe^\\x8aA\\x16E\\xd9\\xd9\\x04P\\x9d\\xa2\\x12\\xd5\\xd7=\\xae\\xd4a\\xae7\\x8b\\xa1\\xc7\\x07/\\x1a\\xc4\\xfd\\xad>t\\xc0<?\\x8d=g)\\x02\\xbe\\xcf\\xb7\\x8e\\xf8\\x9f>\\x8d\\x13\\x9c\\xfb\\x10\\xe3&Q\\xb7\\xd0g\\xeaL\\x95^\\x02\\xc2\\xf4A\\xe2\\xd3@\\tFlZSB\\xd2\\x9fr\\xd0u\\xf8+aSu\"b\\xd7\\xb3X\\x02\\x10\\x97\\xc0\\xc4h\\x9f?\\x1e\\x03\\xd0\\x80\\xe9\\xcaS\\x14>U\\x998Ag\\xb9\\x83\\xb8\\xb6\\x82\\xd3\\xa9d\\\\\\x06z\\x8c\\x02\\xf2\\xbf\\x11\\n\\x8f\\xb4\\x14ro \\xc3\\x9a#G\\x1ez\\t0\\x07\\xa8^\\x8c\\xaf\\x95\\xaf\\x8d\\xf5pm\\xd2\"\\xc4\\x0fCh\\x85#,\\t7)|\\xac\\xea\\x0bB\\x93ag\\x87\\xf9\\x16\\xeb\\x03\\x98\\x12:\\x80\\xecF\\x07\\xda?Q\"\\xcc\\x00\\x1b\\xbb\\xab\\xf4\\x14\\xca\\xaaI\\xbd\\x10\\xf0\\xc8\\x93%\\n\\x96\\xe0`\\x85\\xfa$\\x9e\\xd2B.\\xad\\xb0\\x1f\\xcb\\x82\\x84\\xb7s\\x00\\x12,\\x94\\xcf\\xe5\\x01\\xbbK\\x0c\\xc5v\\xf4\\xae\\x93\\xea\\n\\xe4UQ =\\xb7\\xc2\\xe8\\xdd\\xc2\\x8b\\xeb\\xd5\\x1c=\\xf9@\\x05M\\xa7\\x95\\xb8\\xbb6\\xa0L\\x14\\xa7\\xc6\\x12\\x89\\x04\\xa7H\\x82\\xc2h9\\x9ei\\xf5\\x87o\\xd4\\xdc\\xc27\\x1c\\xec\\x1b\\xdb\\x13\\xce\\x13\\xa0_J\\x1dq\\xdbl\\xf8%\\xf3\\xde\\x90\\x8f\\xb0c]\\x1ef\\xf5,\\xe0\\xd0\\xf2W5\\x96\\xa9\\x1cL\\'\\x9e\\x90\\xa4\\xcb\\xbb[\\x95\\x13\\x8f}\\xe3t\\x9a\\x14\\x80\\x06\\x1c\\x17\\xdf\\x9d.\\x18\\x92\\xaa\\x8fFSL\\xde\\xd7\\x13\\xa7-\\x94\\xc4m\\xcf\\xcf\\xbd\\r\\x88X\\xf4\\xf8\\x01\\xcf\\xb9K\\xea\\xeae\\x8c\\xb5[\\x15q}\\tr\\x88V\\xc7\\xcc\\xe37?*P\\x84\\xd8[\\x1d\\xecSL\\xd1]_L\\x920s\\x89su\\xeb\\xa9\\xb4\\xda\\xe9}\\xacL\\xd0\\xee&|\\xc7\\x9aUq\\xd0K\\xcd,\\xfff\\xa6\\xa4\\xb3\\xf8\\xe2\\xbf{\\xcc\\x83#\\n\\x180u\\xc3\\xb6\\xdeJ\\rP\\xd2\\x1c\\x0cJL\\xf0Z\\xaeg>\"\\x8f>\\x19\\xde\\xbb\\xc2\\x94\\xca_@\\xe6\\xbe\\x1f\\xbb,\\x95-\\r@\\xc4\\xe5&{\\xb6\\xce\\\\\\x00J\\xbf\\x873\\xaa\\xcc\\x06\\x18W\\xcel\\x80)m\\xd7C\"\\xf1P\\xf4\\x852G\\xe1\\xf0d\\x89\\x13\\xc3z\\xb2\\xab\\xc0\\r\\xc7\\xa1\\nhg\\xc1\\xaf\\xf9\\x00\\xba\\xce\\xc2mXc\\xe8\\x11\\xfd\\x82 \\x13\\x10\\xb1\\xeb\\x90?/\\xa4\\xc5\\xdaQ\\xc2V\\x97\\n%\\xdd\\xe1^\\xa6\\xf7\\xb4(\\xe3$\\xd3\\x880\\xefv\\x06|\\'\\xf6\\xa8s\\x83\\x87\\x05/\\x96B\\xb93\\x07\\xa1\\xd7\\xd8|D\\x83\\xb2\\xb8{G\\x83\\x88\\x15\\x8f\\x0f\\x8fu\\xa7\\x0e5\\x7f7\\t\\x07;\\xbdf\\xeb\\t\\x16\\x86\\xcb\\xdaBe.o\\x01|aX\\xe8!u\\xa8\\x01\\xc47UX\\x1bb\\xbd)\\x11#]c\\xa44(\\xa8/\\x94P\\xea^\\n\\xadl\\x15i\\x8eG\\x83\\xc1[\\n\\xa2b>^\\x1fW\\x9a\\xea\\x8a\\x14:\\n\\xe0$\\xe8Z\\x8e\\xadN\\xf0\\xbdY\\xd1o\\xfe\\x18\\x1ck\\x9dq\\xbaz!\\xad.\\x08\\xad\\x0f\\x8ei\\xb3\\xe8\\x05\\x8e\\xc6\\xdc\\xda\\x1d\\x12\\xac\\xcd:H1\\x16\\xf46\\xbf<\\xd6;\\xb5J\\x85\\xf8\\x1bI\\xf5&B\\x07\\x0ei\\xc2\\xd7\\xc7\\x13+\\xcf9\\x83\\xb6\\x19\\xfe\\xe2jd9\\x19\\t\\\\\\xec~yW\\xe4\\xf5K\\x0cV\\x0cDtgOP\\x1f\\xd81\\xdb\\xab\\xeb\\x97\\xfa\\xc4L\\xc2\\x84\\xcf\\x9b\\xd1}(\\'\\'\\x98\\x9c\\x07\\xd1L\\xdd\\xabHK\\xa4\\xbf<\\x9e\\xd2\\xb9\\xd8\\xf0\\xb9\\xd6\\xa9\\x822Ml\\xa1\\xab\\xeeop\\xc8\\x0f\\xe1\\xb9\\xd8\\xa4\\x10;\\xc1\\x8a:\\xc2\\xb1\\xa5\\x9dZ\\xddi\\xfd\\xda'\n",
      "\n",
      "\n",
      "Contenido del paquete 4:\n",
      "###[ Ethernet ]###\n",
      "  dst       = 14:23:0a:28:5a:76\n",
      "  src       = 90:e8:68:8e:2c:11\n",
      "  type      = IPv4\n",
      "###[ IP ]###\n",
      "     version   = 4\n",
      "     ihl       = 5\n",
      "     tos       = 0x0\n",
      "     len       = 1452\n",
      "     id        = 43210\n",
      "     flags     = DF\n",
      "     frag      = 0\n",
      "     ttl       = 128\n",
      "     proto     = tcp\n",
      "     chksum    = 0x8e53\n",
      "     src       = 192.168.1.30\n",
      "     dst       = 140.82.112.21\n",
      "     \\options   \\\n",
      "###[ TCP ]###\n",
      "        sport     = 53798\n",
      "        dport     = https\n",
      "        seq       = 887540354\n",
      "        ack       = 3391455549\n",
      "        dataofs   = 5\n",
      "        reserved  = 0\n",
      "        flags     = A\n",
      "        window    = 508\n",
      "        chksum    = 0xd633\n",
      "        urgptr    = 0\n",
      "        options   = []\n",
      "###[ Raw ]###\n",
      "           load      = b'. \\xe7\\xb9\\x85\\x85\\xa2\\x94.\\xa1-8\\xaa\\x17\\xf6\\xb0\\x1b`\\x19\\x9d!\\xd4\\x97\\xc7\\xfc_/\\x11\\xe9d\\x8b\\xfc\\x0fX\\x9fI]\\xf1w\\xd4\\\\\\xf0\\xed\\xe3z\\xfc\\x1f:\\xfbkf\\xc5Cs \\xd8\\xa3\\xbd\\x19bm\\xc3\\xb0xM\\xbf\\xcf\\xe88\\xafm\\xec\\xd4\\xfbY]n\\xf5\\xc2P\\xcd\\xa4}_\\nY\\xd1\\xf8[\\xef\\x07\\xe8\\xb3\\x08\\xbe\\x8a\\xfa\\xa5\\xdf\\xff}\\x1b$n\\x9b\\xd1i\\xc7\\x1f\\xb7\\xb1\\x8a\\xca\\x81)\\xec\\x8a/\\xe21\\xb1\\xe95\\xe0\\xa0\\x15sr\\xc7\\xfdb\\xd2KA\\xa7~\\xa9}\\xb4\\xc9+\\x89\\xef\\x1b\\xb5\\xe5\\xb8\\x1a\\x8f\\xc8<\\x06x\\x12\\xe7\\xe6\\xefx\\x9c\\xa9\\xc21\\xc3\\xff\\xdf\\xba\\x9e\\x8a@\\x02\\x07\\xf5!\\xa9\\xa9=\\x92\\xa8\\xef\\x99=.\\x83nt<\\xe9\\xf9\\xa5N\\xe2\\x91\\xa0\\x9a\\x10\\xa5!+\\x14\\xadE>c\\x8c,\\x87uq#2+\\xc6\\xdcx\\x9c\\xa9\\xcb7\\xb5\\x05\\xff\\r/]*Z\\xa4\\n!\\xa0\\x82\\x9c\\x804\\xfa\\x87\\x1d\\x97\\x99\"\\xdd\\xff\\x1c\\xd2\\x14\\\\\"0\\xfc\\x86\\x16\\x96f\\x99Q{r\\x1f\\xc0\\xd8\\xfa\\x13\\xc0\\xb7\\xbbn\\xb6\\xf2\\xc4\\xab\\x1b[m\\xf4\\xc94,^\\xf9\\x1a\\xb1h\\xff.-H\\xb1\\xdd\\xd0%%S\\x05%v$\\x96OBz\\xb0C\\xf8\\xee\\x81)\\x95g\\x05\\xb6D\\xe0\\xe2*\\x90\\xef\\xb2\\xd7\\xbdW\\xf3z\\x9a\\xf7\\xce\\x18<r3\\xedN\\x02\\x08\\xccn7\\xdeK4A\\x9e`\\'\\xfd\\x9ei\\x9d\\x89%\\xe3\\xa4\\xfd\\x90e\\xd7\\xd5\\xa4\\xd1\\xcf\\x14\\xbe\\x199\\x02\\x07\\xe9\\xef\\xbc\\xc0\\x02\\x9e$}_\\x82\\x1c\\xf2\\x9c\\x9a\\x10\\xbf\\xc3wS\\xd6n\\xe0\\xdavr\\x88U\\xfa\\xb6\\xa7Am\\x84\\xb7\\x9aj\\x07\\xc8X\\xce\\x96\\xf1\\xe9Bd\\xea\\x88\\xd9\\xb4\\xe0\\xc8\\x06\\xeb\\xf1U\\xb6\\x85\\x18D\\xa7o\\xe2\\xa9D\\x1a\\xd0g:\\x9b[\\xe9w\\xd4\\xb9\\xe6\\x00\\xea\\r\\x07\\x88\\xa1\\xf0\\xacvO#\\xe2\\x1c<\\xb7\\xc6\\xbd\\xba\\xab\\x12\\xb5`(\\x92\\xcaQ(8\\x84\\x9f\\xcf\\x96=\\xe6\\xb6Q\\xd2\\x0cO\\xb6\\xb5\\xa0\\xfaQ\\xf39\\xd4\\xdb\\x04\\xb3R\\x12\\xe8\\xe6\\xd1q\\xa1v\\x1a\\xcdJ\\xe7\\xcd>\\xb2\\x1ab\\x0e\\xb8\\xfc\\xb76\\xbf\\xe3\\xccF\\xb35\\x97\\x08\\xd6U\\xb1\\xfd\\n}\\xc44\\xe2~!\\xfe\\xb3\\x8d\\xc5[b!-Sh\\xd4\\xe6/\\x8f\\xebM+yI{\"\\xdf\\xc9\\x91?\\x80\\x8f\\xd8\\x9d\\xd6\\xcc]\\xae\\xe8\\xd3\\xd6\\xd0%~K3\\xee0a\\xb6BVD\\n\\xb0n\"] \\xe1\\xb4\\x0fR\\xbc8\\xf2n\\x90\\x9e\\xddLi\\x9d\\x7fl<ge\\x13\\xca\\xcb@\\x9bc\\x1cL\\x05\"\\xc4\\xdb\\xf1\\xdeO\\xe3\\x8c\\xbfl\\xdf\\x88zL+\\x0b\\xdb\\xfb8bqJ\\x8f\\xc9\\xaa\\xc3\\x97qj\\x03u\\x1e\\xff\\xbfY@\\xf9\\xa9\\x80\\xf5n\\x17Q\\x87\\x85q\\xe9\\x88dM\\x0f\\xa4 \\xd2\\x13\\xc7Lcm\\x16\\xfa\\xe7\\x0f\\xe1M\\xfd #\\x8e\\xf4\\x98\\xcd\\x84\\x88d\\x8d\\xac\\xad\\x9b\\xd9\\xd8p\\x85\\xbe\\x9f\\x86\\xdf3F -\\xa6\\x8c\\x0f\\nL\\x19\\\\0\\xd0\\xd7f!`9I`n8ZfV3y\\xc3\\x8ab\\xdb@\\xbe\\xec\\xa70fFr\\x05y:\\xe8\\xb9\\xa4\\x17-\\xe8[\\xb99=\\xddhX\\x91\\xeb\\xf9\\x8e\\x82Lj\\xe4\\xf8\\xeb\\xd1Zu\\xd4\\xcb\\x0f\\'\\x97H\\xc5\\xaa\\xcd\\xa07s7\\xcfh\\xeb\\xf1\\x02zh\\xa5\\x0c\\xac\\xbf\\xe4\\xfd,07k\\xf6\\xa7m\\xd7\\x18@\\xba=\\xb1\\xa3\\x19\\x81\\x82\\xf1D9\\x1f\\xf0\\xb2\\xfe6\\xe4\\xaa\\xc2\\xb9\\xc4\\x89:l\\xd1\\xe3\\xbc\\xf1\\rQ\\x1fS\\xff\\x1cm\\xf5d\\x93\\x1aB\\x86\\x89j\\xfao\\'\\x98\\xe5\\xf9\\xb1\\x92\\x11C\\xd7h\\xc1\\xb9\\xaa\\x97\\x95}\\xfer\\xe7\\xab\\xa7X\\x82\\xa0\\xfa(\\\\b{1\\xb0\",\\x8e\\x97k\\xd8\\x14\\x91\\x86\\x08\\xe9\\xac\\x1e\\x85d\\xcc?\\x88T0\\x9d\\xa5\\xd1!\\xbb\\xbc\\x86\\xee(\\x119\\xa2n\\xdd\\x0bD(sd\\x9d\\xfd\\x8ekA\\x90<\\x85\\x98\\xf4\\x9ef\\xe0\\xd2+\\x94K\\x81\\xc5$\\xe8\\xae\\xd4\\xeaO\\xfe\\xc3\\xbf0<$\\xf4\\x0be\\xcahWU\\xc5\\x8d\\xbf\\xbe\\xad\\x8a\\x06\\xda`p,\\x16\\xbf\\x84\\xeb\\xcd\\xcc\\x9d\\x92\\xfb\\x8c\\xaa<,\\xf7\\xd8Q{\\xa1\\x1bS\\xef\\xa9\\x87\\xa7\\x0b\\x19w^xh\\xef,\\xe0\\xac\\x15\\x90\\xb1\\xb82L\\x01M\\xc1\\xc2\\x8bL\\xd5b\\x08\\xf4Mr*\\x9e\\xd6\\xc3\\x854\\x08j\\xb8\\xdc\\xdc\\x08\\x1e\\xf1\\x90M\\x18\\xd298\\xf0\\r\\xbd\\xf0\\xb8\\x16D\\tC\\x14\\xae\\x05\\xac\\xbb\\xf6vi\\x15\\xde|\\xb2\\xbc:\\x03n\\xffq\\xba\\xbbV\\x19H|R\\x06\\x8d1\\xd5\\x1d\\x97\\xd4p\\xca`\\xed\\x08/]t\\x96&\\xafy\\x1bWX\\t;\\xb7Su\\x0fk\\xc7u\\xbb|Eo\\x86\\x94\\x14\\xe2rt\\xed\\x12\\xfb\\x88\\xaf%\\x15\\x17;B\\xd1\\x95\\xd0\\xbf\\xe9$c^WGz\\x89\\x04\\xc0u\\xc7V\\xceHr#\\xe9\\x90\\xc0)\\x02\\xd5g\\\\R\\xe7x\\xa5\\x0e\\x8cm\\xb7\\x83 \\xa4\\x04\\xd6Pf\\xce\\xe2\\x8b\\x90r\\xca#\\xbc\\x7fc\\x0e\\xb6\\xe7?\\xdf\\x00xELW\\xc95\\x15\\xa7\\xed~W\\xce\\x18\\xc8lc\\x88-2\\xc4l\\xc7\\\\W\\x84\\x1a\\x04s>\\x82eX\\xe1\\xf2s\\xd4\\xd3\\xff\\x04\\x85\\xca\\xb9s\\xa6c\\xbbX[\\xac\\xca\\xac,\\xc3\\xd2\\x83\\xcaPk\\xeb\\x11\\'\\x8cniV\\xe3\\xab|\\xac\\xb2xU(\\x15\\xa4\\x87f\\x8b\\\\V?\\x18\\xba\\x19\\xb6\\xb5Q\\xcf\\xddL\\x9d\\xab\\x8e\\x19\\x05S\\xd6\\x84\"\\x12`\\xe3ra\\x1d7\\x0e\\xe1\\x1c\\x81\\x0egOb[\\xe7L\\x91\\xcf3Z5\\x97\\x10\\xa7\\x10\\xf1\\x01\\x9e\\x89\\x98yRy\\x02\\xde-\\x9c\\xa8\\xf0\\x9bSz:k<x\\xc5\\x99|\\xd2\\xe5\\x9c*6B\\x11_`\\x19\\x1b\\x16ch\\xed\\x85\\xcd\\x1e\\xc7\\x97\\x00p\\xe9\\xdfJ@\\xa2\\x03\\xce;$\\xd8\\xf5\\r4\\xd5gR\\x13<\\x84\\x18e}\\xe7Z\\xe8\\xda\\xbd(]\\xdf\\xb7\\xf0_\\xa6\\xdc.\\xa3}\\xe29L0U9\\xbd\\xcdn\"G\\xf2N0d\\x1e\\xfb\\xe2'\n",
      "\n",
      "\n",
      "Contenido del paquete 5:\n",
      "###[ Ethernet ]###\n",
      "  dst       = 14:23:0a:28:5a:76\n",
      "  src       = 90:e8:68:8e:2c:11\n",
      "  type      = IPv4\n",
      "###[ IP ]###\n",
      "     version   = 4\n",
      "     ihl       = 5\n",
      "     tos       = 0x0\n",
      "     len       = 1452\n",
      "     id        = 43211\n",
      "     flags     = DF\n",
      "     frag      = 0\n",
      "     ttl       = 128\n",
      "     proto     = tcp\n",
      "     chksum    = 0x8e52\n",
      "     src       = 192.168.1.30\n",
      "     dst       = 140.82.112.21\n",
      "     \\options   \\\n",
      "###[ TCP ]###\n",
      "        sport     = 53798\n",
      "        dport     = https\n",
      "        seq       = 887541766\n",
      "        ack       = 3391455549\n",
      "        dataofs   = 5\n",
      "        reserved  = 0\n",
      "        flags     = A\n",
      "        window    = 508\n",
      "        chksum    = 0xcbf1\n",
      "        urgptr    = 0\n",
      "        options   = []\n",
      "###[ Raw ]###\n",
      "           load      = b'7&\\x8e\\x9c4\\xde/\\xf7\\x13\\xce\\x04\\xa0\\xd0\\x88\\x066\\xe8\\xc2B\\xb1\\xe6\\xbf_(\\xe5\\xb4\\xf4\\xf3\\xed\\xc5b\\x9c\\xf7>\\x0f\\xef}\\xe8\\x16@]Y\\'.R\\xefvyu\\x0c\\x7fo\\x04\\xdf\\xa1\\xb7\\x81\\xcd\\x15\\xda\\xd7a-\\xeb\\xac\\x12Y\\xf2\\xf7\\x8a\\x9f\\xf74KV\\x93D\\x9e.\\xf0\\xaf&\\x7f\\x85\\xda\\xb4\\x1d\\xe7\\x04\\xed\\x9d.\\x98\\xcbi\\xbbx\\x06\\xd8\\xd1\\xd2\\x08gq&,?{\\x13\\xad{\\xeaN\\xf6\\x81\\x1c\\xb8\\x99\\x1f\\x1eB\\xe7\\xf0\\xaf\\xf4\\xff\\x87We\\xcb\\x81e\\xc6\\xa8\\x1e\\x9b\\x9d4d\\xcacX\\xfe\"\\r\\xf2\\x89\\x82\\x0en^\\xa9R9I\\x89\\xb4\\t\\xa7\\x03@\\xc2\\xf1)\\xed9\\x96\\x16\\xb6\\x8dZ\\x12\\xadbp{B\\xc4\\x01G\\xc0\\r\\xc7<\\'\"\\x13\\xa2\\x85\\xd1\\nf\\x9d\\x17D\\x85\\xd0\\x98\\x9b\\xab\\x10%Z3\\x94l\\xfbfc\\xbcjr?\\xc3\\xdc\\xe3-\\x99N\\xfe\\xf1\\xff\\xfe\\xfb9\\xe6\\xbeJ\\x8d\\xf1m\\x91H\\xd5\\xfd\\xbb\\x1e8yw\\\\0\\xc8\\\\\\xaa\\x0c=\\xf2\\xa5\\xd5Q\\xd4\\xe6\\x8d\\x8c\\xa5\"\\xe9\"\\x98\\x11,\\xe8\\xd1\\xf0\\x11!\\xb5/,+J \\xca\\x1c\\xb5\\x0e\\xd1\\xb6\\xe3\\xf7\\x84\\x94\\x08/^W\\xb2\\xb1b\\x17\\xfb!u\\xa8\\x96=\\xa5!\\x19\\xcc\\xb2\\x85@D6\\x03@\\xabO[\\x95f\\xb3\\x8b\\x0b\\x0c\\x108\\xd37z\\xc0\\xe2\\xa0\\xdb\\x86\\xb5\\xc9\\xbd\\x1e6\\xb0\\x8a\\xa4\\x01\\x8b\\xfa\\xea\\x1f\\x1bT<\\xb3\\xd5\\xbfiT\\xa2\\t\\xb9,\\x99\\x83\\xc9\\xe7\\x83j\\x17su\\x93\\x82\\xd4r\\x8c~\\xe7{{\\xd9\\x80 \\xf2\\xcfY\\xfa(\\xc6\\x85\\xf092\\x9e}/\\xc7\\xbf\\xbc\\x96\\xd3\\x9d\\xf5\\xdb\\xb5\\x1eu\\xc0\\\\\\xb7\\x97\\xf6\\x00\\xa1\\xcd\\xe5\\x92*\\x00\\x8b\\x86\\x89\\x83|\\xd7\\xe6o\\xcd\\xa84\\x9c\\xdel\\x03@\\x8c\\xcc8\\xf79\\xcb\\x08\\xde\\x0f\\xd9\\x87\\x0fy\\xc1Nu{\\xc1\\x149\\xca\\xb4\\xf1\\xf1\\x8bS\\xab\\x05\\xe15I\\xafA\\xba\\x90\\x93\\xd0WBZ\\xb3?\\xfe\\x90\\xa3\\x8a\\xc8\\xfcu0\\xa7\\xa140\\x9eYz\\xb94\\xb9]\\x91\\x92\\xdb\\xf8\\xbb\\x0c\\xc1W\\xa5&L\\xa1\\xf7M\\x8d:\\x83\\xec\\x9c\\xbeg\\xaf&\\xa9$\\xfe\\x1aTy.\\xdf\\xdf\\xa3I\\r@u_\\xcf\\x8a\\xa6\\x94\\xff\\xa2\\xba\\x16H\\xd6\\x17\\'\\xd1\\x1f~\\xe8\\xb5\\x19\\x13\\xc3\\xea\\xd3wv\\x13\\xb8\\xab\\xac\\x8e\\xdc\\x93\\xc1D\\xd7/1\\xb2\\xc1\\n\\xd3\"\\x90m\\xac{q\\xa2\\xfc\\xd8jp\\xe9\\xe2\\x1e,=C\\x12\\x13$B;`\\x99K\\xaaf\\x83!\\xd9\\xd6\\xd6=k\\xe4\\xfe\\x99\\x9b\\xda+G\\x9bV\\xf8Y\\x1d{\\x91X\\x80\\xe9\\x95\\xd3\\x88\\x0c\\x84\\xdc\\x05[\\x1d\\x05/\\xc94*\\'\\xbc\\x01O\\xd7\\x9a\\x06pk\\x9fg\\x1a\\x91~\\xea\\xef\\xf7\\x86fe\\x02\\x9dr\\xc9z;]\\xaa\\x02ux\\xd4h\\xacIY\\xa9|\\x8b[\\xa1\\xa9\\xce\\x1a\\x7f\\xa7z\\x0e/\\'\\xca\\xbd5\\xd1\\xb7\\x81~\\x8b\\xd6[\\xd1\\x03\\xb0\\x027\\xd7N*\\xcfC\\xef\\xaae\\x98\\xd0\\xce\\x7f\\xab%y4Q\\xa7\\x0e\\xf9kPsx\\x86\\x0e{\\xcf\\xf2\\xe1x\\x828\\xee\\xae%G\\xc7e\\xb2Pg4\\xd5\\xba\\xa4\\xdb\"\\xaau\\x18E6\\xe7kT\\x00\\xd6@0%\\x9f\\x95\\x11\\x86\\x17v]w\\xe8\\x8d\\xa2]\\r\\xe4 \\xc8\\x10\\xadF\\xe3_\\xed]L\\xe3\\'\\xf2\\xf7\\xc3=Syy\\x00{-\\x1b\\xf6l<\\xbd\\x01\\xfa\\xb3\\x9a\\x1e^\\x979\\x8a\\xc3X\\xeaD\\x84\\xaa\\xc7\\x9aCu\\x04\\xe0\\x13p\\x96\\xe2[\\xc7\\xbdu\\xfch\\xbe\\x14\\xf3\\xdd7\\xcc\\xe9#\\xce\\xa1\\x08Z\\xe6\\x97\\x89\\xac\\xf1\\xb7w6\\x04\\xa5\\x13\\xcc\\xbe\\xc9W\\xdf\\x07E\\xd9W\\x83\\xe6\\xbb\\xfc\\\\\\x1eC\\x16\\xd1\"f\\x83B\\x1c\\x10\\xf2\\xe9\\x03\\xf6\\xea\\x8dt\\x1cw\\x05+\\x89\\xd9\\x87\\x9a\\xc0\\xfa\\xe52\\xfe\\x02\\xdf-\\xce\\x1a+,\\x1d\\r\\x041\\xe5gv{E\\\\G\\xfa\\x152\\x1ePG\\'v\\xf2\\x8b\\xbfT`_\\xcd\\xdb\\xcc\\xcb\\xca\\x1e\\xf4\\xfe%F\\xf0\\x103{\\xee\\x02%\\x04\\xc0\\xf6\\x16\\t\\xd2\\x961}?}\\xc8\\xa1I\\xe5\\x92~\\\\\\xae\\x01q\\x12\\x05\\xfc\\xde\\xb1\\x8e\\x90\\x18\\xbd\\xf9D\\x94\\xc1\\xe8\\xda\\xf0k\\xb7\\xa0^\\x04\\xa9t\\x8d\\xc2~\\xc2\\xa7N\\xca\\x88\\x9f\\x98\\x86\\xd1\\x99HF\\x96\\xacz\\xf8\\xb0j\\x83\\xe7\\xb6~\\xc9$x\\xd6e\\x84X\\x12/\\xf2\\x07\\xf5\\xf5\\xa1V\\xe2\\xe8\\xe6\\x0e\\x16\\x12\\x03\\xd8L?\\xa1\\xca\\'v\\xd4\\xd2\\xe8\\xefi\\x10 h\\xdc\\xd0N;F\\xb4\\xb1Uz\\xb2\\x9f\\xc6y\\x9a\\xb3\\xed\\x93#\\xfa\\xae\\xde\\xe3\\xf6j\\xad\\x8cm\\x8f9\\x88\\x1c\\xff&#\\\\\\xcaQ\\x1b\\xcb\\xd6(\\rx\\x0c\\xfb\\x9d\\x10\\xad\\xca\\xfb\\xfa\\xfe\\xe6\\xfe\\x84\\r\\x00YJ\\xedu\\xe8\\x90\\x7f\\xde6w\\x866\\xc2\\x13\\xa0\\rnG*\\xbb\\xcf\\xd4\\x7f\\x1f\\x81\\x9c+\\xccE\\xf2\\x82\\xd7\\x02J\\xc6Z\\x804\\x95\\\\\\xca\\n\\x9cY\\xe7#\\xed\\x05\\x8b;\\xbc\\xc3\\xf78\\xa0w(\\xe7&\\xb9\\x10/.O\\xf4Cj\\xe5\\x7f\\xbf\\x9f\"fp\\x96\\xa5+\\xca\\xe7\\x08a\\xb0\\x08\\xbe\\xfe/\\x13\\x07\\x8f\\x86\\xcd\\xc7\\xc3\\x84\\'\\xe2\\xd1v\\'\\xc0\\xb3\\x9a\\xea\\x94 (\\x84V\\x1b\\x84\\x88\\xf7>!\\xdc\\xcb(4}\\xfe{|\\xd0]\\xc3\\x97p\\x03\\xf3v)\\xf7v|G`\\x0ceg\\r\\xd9\\xc4\\x1fmCi\\xe9\\xf5\\xd8\\xa2E}B\\xd8\\x05\\xab\\xa5}\\x91\\xb0&\\xff\\xf9\\x90\\x0c\\x0cE\\x91\\x86\\x7f<!n\\xee\\x89\\x08\\xc6\\xcc\\x19r*7\\x05\\xe4K\\x8c\\xfa1@\\xc4=\\xfcK\\xae1\\x16c\\xe1$\\xa2\\x94\\xf70/\\xd1=4\\xa1\\xaf\\x1d\\xa6\\x95\\'\\xfc\\x9d\\x88\\xfb\\xb8\\x84\\xa8\\x195\\xdb\\x8bm&\\xa5b[8\\x91z\\xab\\x9e\\xe1\\x1b\\xad|4\\xd3]\\xfb^0\\xe8\\x84\\x91P\\xa9\\xadH\\xa8\\x10\\xaa.\\xabG\\xbb\\x90EP\\xb9\\x0e\\x85SY\\x91%C\\x01\\x89\\x8c\\xf5\\xb7\\xd2+\\xa1\\xff\\x06l\\x9d~\\x19\\xa0\\xf4\\r,\\x82u\\xe1\\xc5\\x08\\xaa\\xdbR\\xdeH\\xc7&\\xff\\xeb\\x1dR\\x1c)\\\\'\n",
      "\n"
     ]
    }
   ],
   "source": [
    "# Mostrar contenido detallado de los primeros 5 paquetes\n",
    "for i in range(5):\n",
    "    print(f\"\\nContenido del paquete {i+1}:\")\n",
    "    paquetes[i].show()"
   ]
  },
  {
   "cell_type": "markdown",
   "metadata": {},
   "source": [
    "## Análisis estadístico"
   ]
  },
  {
   "cell_type": "code",
   "execution_count": 6,
   "metadata": {},
   "outputs": [
    {
     "name": "stdout",
     "output_type": "stream",
     "text": [
      "Total de paquetes cargados: 62\n"
     ]
    }
   ],
   "source": [
    "# Cargar archivo pcap\n",
    "paquetes_pcap = rdpcap(\"analisis_paquetes.pcap\")\n",
    "\n",
    "# Verificar cuántos paquetes se cargaron\n",
    "print(f\"Total de paquetes cargados: {len(paquetes_pcap)}\")"
   ]
  },
  {
   "cell_type": "code",
   "execution_count": null,
   "metadata": {},
   "outputs": [],
   "source": [
    "# Lista para guardar los datos\n",
    "datos = []\n",
    "\n",
    "for pkt in paquetes_pcap:\n",
    "    if IP in pkt:\n",
    "        src_ip = pkt[IP].src\n",
    "        dst_ip = pkt[IP].dst\n",
    "        src_port = pkt.sport if hasattr(pkt, 'sport') else None\n",
    "        dst_port = pkt.dport if hasattr(pkt, 'dport') else None\n",
    "\n",
    "        datos.append({\n",
    "            \"Src Address\": src_ip,\n",
    "            \"Dst Address\": dst_ip,\n",
    "            \"Src Port\": src_port,\n",
    "            \"Dst Port\": dst_port\n",
    "        })\n",
    "\n",
    "# Crear el DataFrame\n",
    "df = pd.DataFrame(datos)"
   ]
  },
  {
   "cell_type": "code",
   "execution_count": 9,
   "metadata": {},
   "outputs": [
    {
     "data": {
      "text/html": [
       "<div>\n",
       "<style scoped>\n",
       "    .dataframe tbody tr th:only-of-type {\n",
       "        vertical-align: middle;\n",
       "    }\n",
       "\n",
       "    .dataframe tbody tr th {\n",
       "        vertical-align: top;\n",
       "    }\n",
       "\n",
       "    .dataframe thead th {\n",
       "        text-align: right;\n",
       "    }\n",
       "</style>\n",
       "<table border=\"1\" class=\"dataframe\">\n",
       "  <thead>\n",
       "    <tr style=\"text-align: right;\">\n",
       "      <th></th>\n",
       "      <th>Src Address</th>\n",
       "      <th>Dst Address</th>\n",
       "      <th>Src Port</th>\n",
       "      <th>Dst Port</th>\n",
       "    </tr>\n",
       "  </thead>\n",
       "  <tbody>\n",
       "    <tr>\n",
       "      <th>0</th>\n",
       "      <td>10.1.10.53</td>\n",
       "      <td>84.54.22.33</td>\n",
       "      <td>53</td>\n",
       "      <td>53</td>\n",
       "    </tr>\n",
       "    <tr>\n",
       "      <th>1</th>\n",
       "      <td>84.54.22.33</td>\n",
       "      <td>10.1.10.53</td>\n",
       "      <td>53</td>\n",
       "      <td>53</td>\n",
       "    </tr>\n",
       "    <tr>\n",
       "      <th>2</th>\n",
       "      <td>10.1.10.53</td>\n",
       "      <td>84.54.22.33</td>\n",
       "      <td>53</td>\n",
       "      <td>53</td>\n",
       "    </tr>\n",
       "    <tr>\n",
       "      <th>3</th>\n",
       "      <td>84.54.22.33</td>\n",
       "      <td>10.1.10.53</td>\n",
       "      <td>53</td>\n",
       "      <td>53</td>\n",
       "    </tr>\n",
       "    <tr>\n",
       "      <th>4</th>\n",
       "      <td>10.1.10.53</td>\n",
       "      <td>84.54.22.33</td>\n",
       "      <td>53</td>\n",
       "      <td>53</td>\n",
       "    </tr>\n",
       "  </tbody>\n",
       "</table>\n",
       "</div>"
      ],
      "text/plain": [
       "   Src Address  Dst Address  Src Port  Dst Port\n",
       "0   10.1.10.53  84.54.22.33        53        53\n",
       "1  84.54.22.33   10.1.10.53        53        53\n",
       "2   10.1.10.53  84.54.22.33        53        53\n",
       "3  84.54.22.33   10.1.10.53        53        53\n",
       "4   10.1.10.53  84.54.22.33        53        53"
      ]
     },
     "execution_count": 9,
     "metadata": {},
     "output_type": "execute_result"
    }
   ],
   "source": [
    "df.head()"
   ]
  },
  {
   "cell_type": "code",
   "execution_count": 10,
   "metadata": {},
   "outputs": [
    {
     "data": {
      "text/html": [
       "<div>\n",
       "<style scoped>\n",
       "    .dataframe tbody tr th:only-of-type {\n",
       "        vertical-align: middle;\n",
       "    }\n",
       "\n",
       "    .dataframe tbody tr th {\n",
       "        vertical-align: top;\n",
       "    }\n",
       "\n",
       "    .dataframe thead th {\n",
       "        text-align: right;\n",
       "    }\n",
       "</style>\n",
       "<table border=\"1\" class=\"dataframe\">\n",
       "  <thead>\n",
       "    <tr style=\"text-align: right;\">\n",
       "      <th></th>\n",
       "      <th>Src Address</th>\n",
       "      <th>Dst Address</th>\n",
       "      <th>Src Port</th>\n",
       "      <th>Dst Port</th>\n",
       "    </tr>\n",
       "  </thead>\n",
       "  <tbody>\n",
       "    <tr>\n",
       "      <th>0</th>\n",
       "      <td>10.1.10.53</td>\n",
       "      <td>84.54.22.33</td>\n",
       "      <td>53</td>\n",
       "      <td>53</td>\n",
       "    </tr>\n",
       "    <tr>\n",
       "      <th>1</th>\n",
       "      <td>84.54.22.33</td>\n",
       "      <td>10.1.10.53</td>\n",
       "      <td>53</td>\n",
       "      <td>53</td>\n",
       "    </tr>\n",
       "    <tr>\n",
       "      <th>2</th>\n",
       "      <td>10.1.10.53</td>\n",
       "      <td>84.54.22.33</td>\n",
       "      <td>53</td>\n",
       "      <td>53</td>\n",
       "    </tr>\n",
       "    <tr>\n",
       "      <th>3</th>\n",
       "      <td>84.54.22.33</td>\n",
       "      <td>10.1.10.53</td>\n",
       "      <td>53</td>\n",
       "      <td>53</td>\n",
       "    </tr>\n",
       "    <tr>\n",
       "      <th>4</th>\n",
       "      <td>10.1.10.53</td>\n",
       "      <td>84.54.22.33</td>\n",
       "      <td>53</td>\n",
       "      <td>53</td>\n",
       "    </tr>\n",
       "    <tr>\n",
       "      <th>...</th>\n",
       "      <td>...</td>\n",
       "      <td>...</td>\n",
       "      <td>...</td>\n",
       "      <td>...</td>\n",
       "    </tr>\n",
       "    <tr>\n",
       "      <th>57</th>\n",
       "      <td>84.54.22.33</td>\n",
       "      <td>10.1.10.53</td>\n",
       "      <td>53</td>\n",
       "      <td>53</td>\n",
       "    </tr>\n",
       "    <tr>\n",
       "      <th>58</th>\n",
       "      <td>10.1.10.53</td>\n",
       "      <td>84.54.22.33</td>\n",
       "      <td>53</td>\n",
       "      <td>53</td>\n",
       "    </tr>\n",
       "    <tr>\n",
       "      <th>59</th>\n",
       "      <td>84.54.22.33</td>\n",
       "      <td>10.1.10.53</td>\n",
       "      <td>53</td>\n",
       "      <td>53</td>\n",
       "    </tr>\n",
       "    <tr>\n",
       "      <th>60</th>\n",
       "      <td>10.1.10.53</td>\n",
       "      <td>84.54.22.33</td>\n",
       "      <td>53</td>\n",
       "      <td>53</td>\n",
       "    </tr>\n",
       "    <tr>\n",
       "      <th>61</th>\n",
       "      <td>84.54.22.33</td>\n",
       "      <td>10.1.10.53</td>\n",
       "      <td>53</td>\n",
       "      <td>53</td>\n",
       "    </tr>\n",
       "  </tbody>\n",
       "</table>\n",
       "<p>62 rows × 4 columns</p>\n",
       "</div>"
      ],
      "text/plain": [
       "    Src Address  Dst Address  Src Port  Dst Port\n",
       "0    10.1.10.53  84.54.22.33        53        53\n",
       "1   84.54.22.33   10.1.10.53        53        53\n",
       "2    10.1.10.53  84.54.22.33        53        53\n",
       "3   84.54.22.33   10.1.10.53        53        53\n",
       "4    10.1.10.53  84.54.22.33        53        53\n",
       "..          ...          ...       ...       ...\n",
       "57  84.54.22.33   10.1.10.53        53        53\n",
       "58   10.1.10.53  84.54.22.33        53        53\n",
       "59  84.54.22.33   10.1.10.53        53        53\n",
       "60   10.1.10.53  84.54.22.33        53        53\n",
       "61  84.54.22.33   10.1.10.53        53        53\n",
       "\n",
       "[62 rows x 4 columns]"
      ]
     },
     "execution_count": 10,
     "metadata": {},
     "output_type": "execute_result"
    }
   ],
   "source": [
    "df[[\"Src Address\", \"Dst Address\", \"Src Port\", \"Dst Port\"]]"
   ]
  },
  {
   "cell_type": "markdown",
   "metadata": {},
   "source": [
    "### Estadística"
   ]
  },
  {
   "cell_type": "code",
   "execution_count": 13,
   "metadata": {},
   "outputs": [
    {
     "name": "stdout",
     "output_type": "stream",
     "text": [
      "Lista de todas las IP origen:\n",
      "['10.1.10.53' '84.54.22.33' '75.75.75.75']\n"
     ]
    }
   ],
   "source": [
    "origenes_unicos = df[\"Src Address\"].unique()\n",
    "print(\"Lista de todas las IP origen:\")\n",
    "print(origenes_unicos)"
   ]
  },
  {
   "cell_type": "code",
   "execution_count": null,
   "metadata": {},
   "outputs": [
    {
     "name": "stdout",
     "output_type": "stream",
     "text": [
      "Lista de todas las IP destino:\n",
      "['84.54.22.33' '10.1.10.53' '75.75.75.75']\n"
     ]
    }
   ],
   "source": [
    "destinos_unicos = df[\"Dst Address\"].unique()\n",
    "print(\"Lista de todas las IP destino:\")\n",
    "print(destinos_unicos)"
   ]
  },
  {
   "cell_type": "code",
   "execution_count": 15,
   "metadata": {},
   "outputs": [
    {
     "name": "stdout",
     "output_type": "stream",
     "text": [
      "La IP origen más frecuente es: 10.1.10.53\n"
     ]
    }
   ],
   "source": [
    "ip_origen_frecuente = df[\"Src Address\"].value_counts().idxmax()\n",
    "print(f\"La IP origen más frecuente es: {ip_origen_frecuente}\")"
   ]
  },
  {
   "cell_type": "code",
   "execution_count": 16,
   "metadata": {},
   "outputs": [
    {
     "name": "stdout",
     "output_type": "stream",
     "text": [
      "La IP destino con la que más se comunica 10.1.10.53 es: 84.54.22.33\n"
     ]
    }
   ],
   "source": [
    "ip_destino_frecuente = df[df[\"Src Address\"] == ip_origen_frecuente][\"Dst Address\"].value_counts().idxmax()\n",
    "print(f\"La IP destino con la que más se comunica {ip_origen_frecuente} es: {ip_destino_frecuente}\")"
   ]
  },
  {
   "cell_type": "code",
   "execution_count": 17,
   "metadata": {},
   "outputs": [
    {
     "name": "stdout",
     "output_type": "stream",
     "text": [
      "El puerto destino más utilizado por 10.1.10.53 es: 53\n"
     ]
    }
   ],
   "source": [
    "puerto_destino_frecuente = df[df[\"Src Address\"] == ip_origen_frecuente][\"Dst Port\"].value_counts().idxmax()\n",
    "print(f\"El puerto destino más utilizado por {ip_origen_frecuente} es: {puerto_destino_frecuente}\")"
   ]
  },
  {
   "cell_type": "code",
   "execution_count": 20,
   "metadata": {},
   "outputs": [
    {
     "name": "stdout",
     "output_type": "stream",
     "text": [
      "El propósito del puerto 53 es: domain\n"
     ]
    }
   ],
   "source": [
    "try:\n",
    "    servicio = socket.getservbyport(int(puerto_destino_frecuente))\n",
    "except:\n",
    "    servicio = \"Desconocido\"\n",
    "\n",
    "print(f\"El propósito del puerto {puerto_destino_frecuente} es: {servicio}\")"
   ]
  },
  {
   "cell_type": "code",
   "execution_count": 21,
   "metadata": {},
   "outputs": [
    {
     "name": "stdout",
     "output_type": "stream",
     "text": [
      "La IP 10.1.10.53 usa los siguientes puertos origen:\n",
      "[   53 15812 23903]\n"
     ]
    }
   ],
   "source": [
    "puertos_origen = df[df[\"Src Address\"] == ip_origen_frecuente][\"Src Port\"].unique()\n",
    "print(f\"La IP {ip_origen_frecuente} usa los siguientes puertos origen:\")\n",
    "print(puertos_origen)"
   ]
  },
  {
   "cell_type": "markdown",
   "metadata": {},
   "source": [
    "### Gráficas"
   ]
  },
  {
   "cell_type": "code",
   "execution_count": 22,
   "metadata": {},
   "outputs": [],
   "source": [
    "df[\"Payload Size\"] = df.index.map(lambda i: len(paquetes_pcap[i]) if i < len(paquetes_pcap) else 0)"
   ]
  },
  {
   "cell_type": "code",
   "execution_count": 24,
   "metadata": {},
   "outputs": [
    {
     "data": {
      "image/png": "[encoded data removed]",
      "text/plain": [
       "<Figure size 1000x600 with 1 Axes>"
      ]
     },
     "metadata": {},
     "output_type": "display_data"
    }
   ],
   "source": [
    "# Agrupar por IP origen y sumar los payloads\n",
    "payload_por_ip_origen = df.groupby(\"Src Address\")[\"Payload Size\"].sum()\n",
    "\n",
    "# Graficar\n",
    "plt.figure(figsize=(10,6))\n",
    "payload_por_ip_origen.sort_values().plot(kind=\"barh\", color=\"skyblue\")\n",
    "plt.xlabel(\"Bytes enviados\")\n",
    "plt.ylabel(\"IP Origen\")\n",
    "plt.title(\"Bytes enviados por cada IP origen\")\n",
    "plt.show()"
   ]
  },
  {
   "cell_type": "code",
   "execution_count": null,
   "metadata": {},
   "outputs": [
    {
     "data": {
      "image/png": "[encoded data removed]",
      "text/plain": [
       "<Figure size 1000x600 with 1 Axes>"
      ]
     },
     "metadata": {},
     "output_type": "display_data"
    }
   ],
   "source": [
    "# Agrupar por IP destino y sumar los payloads\n",
    "payload_por_ip_destino = df.groupby(\"Dst Address\")[\"Payload Size\"].sum()\n",
    "\n",
    "# Graficar\n",
    "plt.figure(figsize=(10,6))\n",
    "payload_por_ip_destino.sort_values().plot(kind=\"barh\", color=\"orange\")\n",
    "plt.xlabel(\"Bytes recibidos\")\n",
    "plt.ylabel(\"IP Destino\")\n",
    "plt.title(\"Bytes recibidos por cada IP destino\")\n",
    "plt.show()"
   ]
  },
  {
   "cell_type": "code",
   "execution_count": null,
   "metadata": {},
   "outputs": [
    {
     "data": {
      "image/png": "[encoded data removed]",
      "text/plain": [
       "<Figure size 1000x600 with 1 Axes>"
      ]
     },
     "metadata": {},
     "output_type": "display_data"
    }
   ],
   "source": [
    "# Agrupar por puerto origen y sumar los payloads\n",
    "payload_por_puerto_origen = df.groupby(\"Src Port\")[\"Payload Size\"].sum()\n",
    "\n",
    "# Graficar\n",
    "plt.figure(figsize=(10,6))\n",
    "payload_por_puerto_origen.sort_values().plot(kind=\"barh\", color=\"green\")\n",
    "plt.xlabel(\"Bytes enviados\")\n",
    "plt.ylabel(\"Puerto Origen\")\n",
    "plt.title(\"Bytes enviados por cada puerto origen\")\n",
    "plt.show()"
   ]
  },
  {
   "cell_type": "code",
   "execution_count": 27,
   "metadata": {},
   "outputs": [
    {
     "data": {
      "image/png": "[encoded data removed]",
      "text/plain": [
       "<Figure size 1000x600 with 1 Axes>"
      ]
     },
     "metadata": {},
     "output_type": "display_data"
    }
   ],
   "source": [
    "# Agrupar por puerto destino y sumar los payloads\n",
    "payload_por_puerto_destino = df.groupby(\"Dst Port\")[\"Payload Size\"].sum()\n",
    "\n",
    "# Graficar\n",
    "plt.figure(figsize=(10,6))\n",
    "payload_por_puerto_destino.sort_values().plot(kind=\"barh\", color=\"red\")\n",
    "plt.xlabel(\"Bytes recibidos\")\n",
    "plt.ylabel(\"Puerto Destino\")\n",
    "plt.title(\"Bytes recibidos por cada puerto destino\")\n",
    "plt.show()"
   ]
  },
  {
   "cell_type": "code",
   "execution_count": 28,
   "metadata": {},
   "outputs": [
    {
     "data": {
      "image/png": "[encoded data removed]",
      "text/plain": [
       "<Figure size 1000x600 with 1 Axes>"
      ]
     },
     "metadata": {},
     "output_type": "display_data"
    }
   ],
   "source": [
    "# Filtrar datos de la IP origen más frecuente\n",
    "df_ip_frecuente = df[df[\"Src Address\"] == ip_origen_frecuente].copy()\n",
    "\n",
    "# Agregar una columna de tiempo \n",
    "df_ip_frecuente[\"Time\"] = df_ip_frecuente.index\n",
    "\n",
    "# Graficar\n",
    "plt.figure(figsize=(10,6))\n",
    "plt.bar(df_ip_frecuente[\"Time\"], df_ip_frecuente[\"Payload Size\"], color=\"purple\")\n",
    "plt.xlabel(\"Tiempo\")\n",
    "plt.ylabel(\"Bytes enviados\")\n",
    "plt.title(f\"Bytes enviados a lo largo del tiempo - IP {ip_origen_frecuente}\")\n",
    "plt.xticks(rotation=45)\n",
    "plt.show()"
   ]
  },
  {
   "cell_type": "markdown",
   "metadata": {},
   "source": [
    "1. La IP 10.1.10.53 genera la mayor cantidad de tráfico enviado con aproximado de 30,000 bytes\n",
    "Esto sugiere que esta IP es el principal emisor de tráfico en la red.\n",
    "   - Puede ser un servidor que está enviando datos constantemente.\n",
    "   - Puede estar descargando o subiendo archivos grandes.\n",
    "   - Si no es un servidor, podría tratarse de actividad inusual como exfiltración de datos.\n",
    "\n",
    "2. La IP 84.54.22.33 es la principal receptora con aproximado de 30,000 bytes\n",
    "Esta IP es el principal destino del tráfico generado en la red.\n",
    "   - Es probable que sea un servidor externo con el que la IP 10.1.10.53 está comunicándose de manera frecuente.\n",
    "   - Podría tratarse de descargas grandes desde esa IP.\n",
    "   - Si la comunicación es constante y no esperada, podría ser tráfico malicioso o una transferencia de datos sospechosa.\n",
    "\n",
    "3. El puerto 53 es el único que envía y recibe tráfico\n",
    "El puerto 53 es usado para DNS (Domain Name System).\n",
    "   - Si todo el tráfico está pasando por este puerto, parece indicar una enorme cantidad de peticiones DNS.\n",
    "   - Un servidor DNS en la red generando un volumen inusualmente alto de tráfico.\n",
    "   - Algún dispositivo está haciendo muchas solicitudes DNS.\n",
    "   - Puede ser indicio de un ataque tipo \"DNS Tunneling\", donde un atacante usa DNS para evadir detecciones y exfiltrar datos.\n",
    "\n",
    "4. Análisis del tráfico en el tiempo para la IP 10.1.10.53\n",
    "La mayoría de los datos enviados están cerca o por encima de 1,000 bytes.\n",
    "   - La caída en el tiempo 20-30 podría ser una interrupción momentánea en la comunicación.\n",
    "   - Si la IP 10.1.10.53 es un servidor, la caída podría indicar un período de inactividad.\n",
    "   - El patrón podría coincidir con picos de actividad en ciertos momentos."
   ]
  },
  {
   "cell_type": "markdown",
   "metadata": {},
   "source": [
    "### Investigación del payload"
   ]
  }
 ],
 "metadata": {
  "kernelspec": {
   "display_name": "Python 3",
   "language": "python",
   "name": "python3"
  },
  "language_info": {
   "codemirror_mode": {
    "name": "ipython",
    "version": 3
   },
   "file_extension": ".py",
   "mimetype": "text/x-python",
   "name": "python",
   "nbconvert_exporter": "python",
   "pygments_lexer": "ipython3",
   "version": "3.11.7"
  }
 },
 "nbformat": 4,
 "nbformat_minor": 2
}
